{
 "cells": [
  {
   "cell_type": "code",
   "execution_count": 1,
   "metadata": {},
   "outputs": [],
   "source": [
    "import logging\n",
    "logging.basicConfig(format='%(asctime)s : %(levelname)s : %(message)s', level=logging.INFO)"
   ]
  },
  {
   "cell_type": "code",
   "execution_count": 2,
   "metadata": {},
   "outputs": [],
   "source": [
    "import csv"
   ]
  },
  {
   "cell_type": "code",
   "execution_count": 3,
   "metadata": {},
   "outputs": [],
   "source": [
    "def get_preperation():\n",
    "    merged_list = []\n",
    "    skip_first = False # col name\n",
    "    chef_file = '/input/recipe_details_27-12-2017.csv'\n",
    "    with open(chef_file, 'r') as f:\n",
    "        chefkoch = csv.reader(f)\n",
    "        for row in chefkoch:\n",
    "            if skip_first:\n",
    "                skip_first = False\n",
    "                continue\n",
    "            try:\n",
    "                merged_list.append(row[2])\n",
    "            except: \n",
    "                continue\n",
    "    text = ' '.join(merged_list[:6000])\n",
    "    return(text)"
   ]
  },
  {
   "cell_type": "code",
   "execution_count": 4,
   "metadata": {},
   "outputs": [],
   "source": [
    "text = get_preperation()"
   ]
  },
  {
   "cell_type": "markdown",
   "metadata": {},
   "source": [
    "### Length of the entire preparation text of all recipes"
   ]
  },
  {
   "cell_type": "code",
   "execution_count": 5,
   "metadata": {},
   "outputs": [
    {
     "name": "stdout",
     "output_type": "stream",
     "text": [
      "4,247,529 Zeichen fuer 20'000 Rezepte\n"
     ]
    }
   ],
   "source": [
    "# Characters for 20'000 recipes\n",
    "print(\"{:,} Zeichen fuer 20'000 Rezepte\".format(len(text)))"
   ]
  },
  {
   "cell_type": "code",
   "execution_count": 6,
   "metadata": {},
   "outputs": [
    {
     "name": "stderr",
     "output_type": "stream",
     "text": [
      "Using Theano backend.\n",
      "WARNING (theano.sandbox.cuda): The cuda backend is deprecated and will be removed in the next release (v0.10).  Please switch to the gpuarray backend. You can get more information about how to switch at this URL:\n",
      " https://github.com/Theano/Theano/wiki/Converting-to-the-new-gpu-back-end%28gpuarray%29\n",
      "\n",
      "2018-01-05 15:52:46,282 theano.sandbox.cuda WARNING  __init__.py:502 - use() The cuda backend is deprecated and will be removed in the next release (v0.10).  Please switch to the gpuarray backend. You can get more information about how to switch at this URL:\n",
      " https://github.com/Theano/Theano/wiki/Converting-to-the-new-gpu-back-end%28gpuarray%29\n",
      "\n",
      "Using gpu device 0: Tesla K80 (CNMeM is disabled, cuDNN 5110)\n"
     ]
    },
    {
     "name": "stdout",
     "output_type": "stream",
     "text": [
      "Backend ok\n"
     ]
    }
   ],
   "source": [
    "import os\n",
    "os.environ[\"KERAS_BACKEND\"] = \"theano\"\n",
    "os.environ[\"THEANO_FLAGS\"] = \"mode=FAST_RUN,device=gpu,floatX=float32\"\n",
    "import keras; import keras.backend\n",
    "from keras.models import Sequential\n",
    "from keras.layers.recurrent import LSTM\n",
    "from keras.layers.core import Dense, Activation, Dropout\n",
    "if keras.backend.backend() != 'theano':\n",
    "    raise BaseException(\"This script uses other backend\")\n",
    "else:\n",
    "    keras.backend.set_image_dim_ordering('th')\n",
    "    print(\"Backend ok\")\n"
   ]
  },
  {
   "cell_type": "code",
   "execution_count": 9,
   "metadata": {},
   "outputs": [],
   "source": [
    "import random\n",
    "import numpy as np\n",
    "from glob import glob\n",
    "\n",
    "chars = list(set(text))\n",
    "\n",
    "# set a fixed vector size\n",
    "max_len = 20"
   ]
  },
  {
   "cell_type": "code",
   "execution_count": 10,
   "metadata": {},
   "outputs": [],
   "source": [
    "model = Sequential()\n",
    "model.add(LSTM(512, return_sequences=True, input_shape=(max_len, len(chars))))\n",
    "model.add(Dropout(0.2))\n",
    "model.add(LSTM(512, return_sequences=False))\n",
    "model.add(Dropout(0.2))\n",
    "model.add(Dense(len(chars)))\n",
    "model.add(Activation('softmax'))\n",
    "model.compile(loss='categorical_crossentropy', optimizer='rmsprop')"
   ]
  },
  {
   "cell_type": "code",
   "execution_count": 11,
   "metadata": {},
   "outputs": [
    {
     "name": "stdout",
     "output_type": "stream",
     "text": [
      "_________________________________________________________________\n",
      "Layer (type)                 Output Shape              Param #   \n",
      "=================================================================\n",
      "lstm_1 (LSTM)                (None, 20, 512)           1333248   \n",
      "_________________________________________________________________\n",
      "dropout_1 (Dropout)          (None, 20, 512)           0         \n",
      "_________________________________________________________________\n",
      "lstm_2 (LSTM)                (None, 512)               2099200   \n",
      "_________________________________________________________________\n",
      "dropout_2 (Dropout)          (None, 512)               0         \n",
      "_________________________________________________________________\n",
      "dense_1 (Dense)              (None, 138)               70794     \n",
      "_________________________________________________________________\n",
      "activation_1 (Activation)    (None, 138)               0         \n",
      "=================================================================\n",
      "Total params: 3,503,242\n",
      "Trainable params: 3,503,242\n",
      "Non-trainable params: 0\n",
      "_________________________________________________________________\n"
     ]
    }
   ],
   "source": [
    "model.summary()"
   ]
  },
  {
   "cell_type": "code",
   "execution_count": 12,
   "metadata": {},
   "outputs": [],
   "source": [
    "step = 3\n",
    "inputs = []\n",
    "outputs = []\n",
    "for i in range(0, len(text) - max_len, step):\n",
    "    inputs.append(text[i:i+max_len])\n",
    "    outputs.append(text[i+max_len])"
   ]
  },
  {
   "cell_type": "code",
   "execution_count": 11,
   "metadata": {},
   "outputs": [
    {
     "name": "stdout",
     "output_type": "stream",
     "text": [
      "Requirement already satisfied: psutil in /usr/local/lib/python3.5/dist-packages\n"
     ]
    }
   ],
   "source": [
    "! pip install psutil"
   ]
  },
  {
   "cell_type": "code",
   "execution_count": 13,
   "metadata": {},
   "outputs": [
    {
     "data": {
      "text/plain": [
       "svmem(total=27394269184, available=25805017088, percent=5.8, used=2534232064, free=24860037120, active=1338621952, inactive=603824128, buffers=102944768, cached=842035200, shared=11718656)"
      ]
     },
     "execution_count": 13,
     "metadata": {},
     "output_type": "execute_result"
    }
   ],
   "source": [
    "import psutil\n",
    "psutil.virtual_memory()"
   ]
  },
  {
   "cell_type": "code",
   "execution_count": 14,
   "metadata": {},
   "outputs": [],
   "source": [
    "char_labels = {ch:i for i, ch in enumerate(chars)}\n",
    "labels_char = {i:ch for i, ch in enumerate(chars)}\n",
    "\n",
    "# using bool to reduce memory usage\n",
    "X = np.zeros((len(inputs), max_len, len(chars)), dtype=np.bool)\n",
    "y = np.zeros((len(inputs), len(chars)), dtype=np.bool)\n",
    "\n",
    "# one-hot vector\n",
    "for i, example in enumerate(inputs):\n",
    "    for t, char in enumerate(example):\n",
    "        X[i, t, char_labels[char]] = 1\n",
    "    y[i, char_labels[outputs[i]]] = 1"
   ]
  },
  {
   "cell_type": "code",
   "execution_count": 15,
   "metadata": {},
   "outputs": [],
   "source": [
    "def generate(temperature=0.35, seed=None, num_chars=150):\n",
    "    predicate=lambda x: len(x) < num_chars\n",
    "    \n",
    "    if seed is not None and len(seed) < max_len:\n",
    "        raise Exception('{} chars long'.format(max_len))\n",
    "\n",
    "    else:\n",
    "        start_idx = random.randint(0, len(text) - max_len - 1)\n",
    "        seed = text[start_idx:start_idx + max_len]\n",
    "\n",
    "    sentence = seed\n",
    "    generated = sentence\n",
    "\n",
    "    while predicate(generated):\n",
    "        # generate input tensor\n",
    "        x = np.zeros((1, max_len, len(chars)))\n",
    "        for t, char in enumerate(sentence):\n",
    "            x[0, t, char_labels[char]] = 1.\n",
    "\n",
    "        probs = model.predict(x, verbose=0)[0]\n",
    "        next_idx = sample(probs, temperature)\n",
    "        next_char = labels_char[next_idx]\n",
    "\n",
    "        generated += next_char\n",
    "        sentence = sentence[1:] + next_char\n",
    "    return generated\n",
    "\n",
    "def sample(probs, temperature):\n",
    "    a = np.log(probs)/temperature\n",
    "    dist = np.exp(a)/np.sum(np.exp(a))\n",
    "    choices = range(len(probs))\n",
    "    return np.random.choice(choices, p=dist)"
   ]
  },
  {
   "cell_type": "code",
   "execution_count": 16,
   "metadata": {},
   "outputs": [
    {
     "name": "stdout",
     "output_type": "stream",
     "text": [
      "epoch 0\n",
      "Epoch 1/1\n",
      "1415837/1415837 [==============================] - 2114s 1ms/step - loss: 1.2836\n",
      "temperature: 0.20\n",
      "ackpapier ausgelegte Scheibe schneiden.   Die Masse der Schmeckt auch ein Sieb auf dem Teig verschließen.   Die Masse der Schmeckt ist die Sahne auf d\n",
      "temperature: 0.50\n",
      "te einkochen lassen.   Die Masse zu eine Scheibe Schnee legen.   Den Teig in eine Schüssel geben und auf den Teig geben und unter Rühren auf der Papri\n",
      "temperature: 1.00\n",
      "inzufügen und einige Krümela sinde Zucchini und zu etwas Rotteler estrekte Masse oder ZimtCuetschmand werden, getrendten forme und die Vanillius Zucch\n",
      "temperature: 1.20\n",
      " bestreichen.  Die Müblis oben sola halz verwendet ganz säftig mar einfach gießen. Dazu passt Bahler und Feigsalze putzen und dann das Fleisch wie Aho\n",
      "epoch 1\n",
      "Epoch 1/1\n",
      "1415837/1415837 [==============================] - 2115s 1ms/step - loss: 0.9711\n",
      "temperature: 0.20\n",
      "rfel schneiden. Die Schokolade dazu geben und mit der Sahne und den Salz abschmecken.  Die Brote entfernen und in den Kühlschrank stellen.  Die Sahne \n",
      "temperature: 0.50\n",
      "n und den Teig in einer Pfanne stellen.  Die Sahne auf den Salat dazu geben und alles anschwitzen.  Das Wasser dazu geben. Den Kuchen auf dem Backofen\n",
      "temperature: 1.00\n",
      "jede Schale eine Muses leicht Hoden, dehoniert inden.  Den Kebsg ohne Fett herausnehmen und gut verrühren. Rotwein und im Rahmofürte ca. 3 meoden Fett\n",
      "temperature: 1.20\n",
      "twas schärfer mag, kann auch nach Bedarg verwendetneden das Gehacktamrstrückenulpbewenkoblococa. Ma kant muss. (Zwürame Glis schaumig rühren und ßem G\n",
      "epoch 2\n",
      "Epoch 1/1\n",
      "1415837/1415837 [==============================] - 2114s 1ms/step - loss: 0.9217\n",
      "temperature: 0.20\n",
      "rollen und dann in feine Streifen schneiden. Die Sahne steif schlagen. Die Sahne und den Schinken in einer Pfanne erhitzen und die Sahne und die Sahne\n",
      "temperature: 0.50\n",
      "n lassen. Anschließend den Kuchen aus der Masse geben und mit dem Hackfleisch vermischen. Die Sahne dazugeben und alles gut durchmischen. Die Marinade\n",
      "temperature: 1.00\n",
      "nd 2 Min. mit braten, bis sich die Sauce oder abkühlen lassen. Wein übriglich dicklich ausgerollte Streifen darin backen. Restliche Zwiebeln. Mit Salz\n",
      "temperature: 1.20\n",
      " Minuten in kochendes Soß--ChiamarWistreze a-Abenaodi vertspfen. Nachsalzen und die Fleische dazusureen. Ich ebenfalls der Pfanne ausstechen, als Beil\n",
      "epoch 3\n",
      "Epoch 1/1\n",
      "1415837/1415837 [==============================] - 2115s 1ms/step - loss: 0.8971\n",
      "temperature: 0.20\n",
      "elb einpinseln. Dann die Schokolade in eine Schüssel geben und die Masse in eine Schüssel geben und mit der Sahne und dem Salz und den Zucker dazugebe\n",
      "temperature: 0.50\n",
      "len.  Unmittelbar von der Sahne steif schlagen und dann die Zwiebel und den Zucker mit der Sahne verrühren.  Die Margarine dazugeben und kurz aufkoche\n",
      "temperature: 1.00\n",
      "der Schoko-Tropfen herausgießen und für 1 cm hoch ähnlicheraut in Streifen schneiden. Das Fleisch leicht braun man auch reicht der Pürierzucker Eille \n",
      "temperature: 1.20\n",
      "1 EL Zucker karamellisieren ist sich belegen. Am Zchmpasier auch noch ist verbreeneanbraten. Das Mehl mit Linsenblättern bereitstechen, von der Perien\n",
      "epoch 4\n",
      "Epoch 1/1\n",
      "1415837/1415837 [==============================] - 2115s 1ms/step - loss: 0.8819\n",
      "temperature: 0.20\n",
      "fen auf 200 °C vorheizen.   Die Schokolade in einer Schüssel mit dem Schmand vermengen. Die Masse in eine gefettete Form füllen. Die Schokolade in ein\n",
      "temperature: 0.50\n",
      "geln formen und auf dem Backblech setzen.   Die Eier mit der Sahne ablöschen. Danach den Schmand und den Springform (auf der mittleren Schiene backen.\n",
      "temperature: 1.00\n",
      "st.  Inzwischen die Kroken mehr Gericht warm reichen. Die Würze zwei Weißwein einschneiden. Semmelmehl, Tomatenmark vermischen. Das Gemüse in verteile\n",
      "temperature: 1.20\n",
      "n füllen, mit Puderzucker ausgelegt. Das Gericht erhitzen.  Bekommt auch höndischt -20 Minuten pflach vorher zur Sauce, wenn es eherig vergegrucht wir\n",
      "epoch 5\n",
      "Epoch 1/1\n",
      "1415837/1415837 [==============================] - 2116s 1ms/step - loss: 0.8729\n",
      "temperature: 0.20\n",
      "itronengraspulver ist das Ganze auf die Springform füllen. Die Schalotten und die Schalotten und den Knoblauch darin anbraten. Die Kartoffeln schälen \n",
      "temperature: 0.50\n",
      "auflegen und bei mittlerer Hitze ca. 5 Minuten braten. Die Hälfte der Tomaten schneiden. Die Masse darauf achten, dass der Teig kleine Kerne entfernen\n",
      "temperature: 1.00\n",
      "enpilzen kann anstelle eine Spritzsoll.  Garnelen salzen. Auf tief mit Backpapier belegen. Das auch sollte zu dem Gar zu Sahneunsets anrösten. Die Zuc\n",
      "temperature: 1.20\n",
      "ie Sauce über den Springform ein zutladen Bescheig draufsetzen, nachhiert das Gemüse nach Packungsanleitut mit Zwiebeln, Karamellsatz und wie die Zitr\n",
      "epoch 6\n",
      "Epoch 1/1\n",
      "1415837/1415837 [==============================] - 2115s 1ms/step - loss: 0.8681\n",
      "temperature: 0.20\n",
      " Zitronenrisotto Für die Masse auf den Teig geben und mit dem Schnittlauch und den Knoblauch und den Knoblauch und den Knoblauch darin anschwitzen. Di\n",
      "temperature: 0.50\n",
      "trone und einer Prise Salz und der Sahne mit dem Messer fein schneiden. Die Zwiebeln und den Knoblauch dazugeben.  Die Tomaten mit einem Fleischtopf s\n",
      "temperature: 1.00\n",
      "r Teig sollte also sich rührt reichen. Nach dem Backen mit dem Gannernspies adrinklich schöne samale Förmchen, dais leicht anschwitzen. Pilze in klein\n",
      "temperature: 1.20\n",
      "s Weißkraut in Streifen schneiden. Mit einem kochenden Teig setzen undsreifen und mit Intersaft verrühren oder etwas Gurku schälen und herausnehmen un\n",
      "epoch 7\n",
      "Epoch 1/1\n",
      "1415837/1415837 [==============================] - 2115s 1ms/step - loss: 0.8648\n",
      "temperature: 0.20\n",
      "er hellen Saucenbinder auf den Kuchen geben. Die Sauce mit dem Schneebesen verrühren und mit Salz, Pfeffer und Muskat würzen. Die Sauce mit dem Frisch\n",
      "temperature: 0.50\n",
      "chokoladenpulver, er sein, dass wie dem Kreuz auf den Herd stellen.   Den Backofen auf 180 Grad vorheizen.   Die Masse entstanden ist. Die Suppe kurz \n",
      "temperature: 1.00\n",
      "eicher Temperatur backen, dabei herden ein Sieb schütten und die Bohnen zugeben. reben aus der Pfanne nehmen. Zwiebeln und Knoblauchzehe geben und mit\n",
      "temperature: 1.20\n",
      "Einen Apfel schälen, im Wasserbad auf weiß Sieb abgießen, das Hackfleisch aus dem lüslier izer Frischhaltebackschiene aus der 3-3 min backen. Das Mehl\n",
      "epoch 8\n",
      "Epoch 1/1\n",
      "1415837/1415837 [==============================] - 2114s 1ms/step - loss: 0.8608\n",
      "temperature: 0.20\n",
      "sche ist) mit Salz, Pfeffer und Paprika würzen. Die Schalotten in Scheiben schneiden. Die Zwiebeln in kleine Würfel schneiden. Die Knoblauchzehen schä\n",
      "temperature: 0.50\n",
      "brust. Und auf dem Blech mit Backpapier auslegen. Die Butter mit dem Staubprobe machen. Die Tomaten mit dem Eigelb bestreichen.   Die Mandeln in eine \n",
      "temperature: 1.00\n",
      "f höchste Temperatur an einem warmen Ort bei 180 Grad ca. 10 Minuten köcheln lassen. S und zu über den Backofen erhitzen und mit dem Rest einen Käse b\n",
      "temperature: 1.20\n",
      "die Masse sieben, die mehrerem Schafskäse glasig dünschnet nach heiß ist, ich das Mandel, Garnelenmart ca. Bluter tacken. Die   löst besser ß. gründli\n",
      "epoch 9\n",
      "Epoch 1/1\n",
      "1415837/1415837 [==============================] - 2116s 1ms/step - loss: 0.8594\n",
      "temperature: 0.20\n",
      "enz erreicht ist.   Die Sahne unterrühren. Die Schalotte in Scheiben schneiden. Die Schalotte und den Knoblauch schälen und in Scheiben schneiden. Die\n",
      "temperature: 0.50\n",
      "üssel an einem warmen Ort ca. 30 Minuten backen. Die Sahne in eine Schüssel geben und die Mandeln zugeben und gut durchkneten. Die Masse auf dem Rosma\n",
      "temperature: 1.00\n",
      ". Im Bräter anrösten. Kräuter grob machen und die gebackenen Spieße alles - mit der Kürbismasse ziehen. Ich nehme immer Glas zu Reus. Die Schalotte da\n",
      "temperature: 1.20\n",
      "ison, z.B. eine Banane essillen (je nach Größe  co. 2 Tagesschüsseler Farbe möglich, gewünschte Konfitüre, Milch und Durchste bprimeniwir Ctintschmalz\n",
      "epoch 10\n",
      "Epoch 1/1\n",
      "1415837/1415837 [==============================] - 2115s 1ms/step - loss: 0.8564\n",
      "temperature: 0.20\n",
      "ackungsanleitung kochen.   Die Schokolade in einen Topf geben und mit dem Salz und dem Zucker schaumig schlagen. Die Sahne steif schlagen und unter di\n",
      "temperature: 0.50\n",
      "en formen. Damit eine schöne Schale legen. Die Putenbrust in nicht zu kleine Spalten schneiden und die Spinatscheiben gestreute Formen bei 200°C ca. 2\n",
      "temperature: 1.00\n",
      "hini dazu und alles mit einem Klarkipfel vermengen und anschließend das Fleisch und Rosenkohl abschmecken.  Nach dem Auskühlen mischen und das Sauce k\n",
      "temperature: 1.20\n",
      " die Frühlingszwiebeln gut abhacken. Aus Eismarkreis oder , wenn es gutes Geechmackzulatt für Im obige 16pmibläckeren. Das kaunte gerindt ist. Von dem\n",
      "epoch 11\n",
      "Epoch 1/1\n",
      " 376064/1415837 [======>.......................] - ETA: 25:55 - loss: 0.8463"
     ]
    },
    {
     "ename": "KeyboardInterrupt",
     "evalue": "",
     "output_type": "error",
     "traceback": [
      "\u001b[0;31m---------------------------------------------------------------------------\u001b[0m",
      "\u001b[0;31mKeyboardInterrupt\u001b[0m                         Traceback (most recent call last)",
      "\u001b[0;32m<ipython-input-16-9e90be447577>\u001b[0m in \u001b[0;36m<module>\u001b[0;34m()\u001b[0m\n\u001b[1;32m      6\u001b[0m     \u001b[0;31m# set nb_epoch to 1 since we're iterating manually\u001b[0m\u001b[0;34m\u001b[0m\u001b[0;34m\u001b[0m\u001b[0m\n\u001b[1;32m      7\u001b[0m     \u001b[0;31m# comment this out if you just want to generate text\u001b[0m\u001b[0;34m\u001b[0m\u001b[0;34m\u001b[0m\u001b[0m\n\u001b[0;32m----> 8\u001b[0;31m     \u001b[0mmodel\u001b[0m\u001b[0;34m.\u001b[0m\u001b[0mfit\u001b[0m\u001b[0;34m(\u001b[0m\u001b[0mX\u001b[0m\u001b[0;34m,\u001b[0m \u001b[0my\u001b[0m\u001b[0;34m,\u001b[0m \u001b[0mbatch_size\u001b[0m\u001b[0;34m=\u001b[0m\u001b[0;36m128\u001b[0m\u001b[0;34m,\u001b[0m \u001b[0mepochs\u001b[0m\u001b[0;34m=\u001b[0m\u001b[0;36m1\u001b[0m\u001b[0;34m)\u001b[0m\u001b[0;34m\u001b[0m\u001b[0m\n\u001b[0m\u001b[1;32m      9\u001b[0m     \u001b[0mnb_epoch_num\u001b[0m \u001b[0;34m+=\u001b[0m \u001b[0;36m1\u001b[0m\u001b[0;34m\u001b[0m\u001b[0m\n\u001b[1;32m     10\u001b[0m     \u001b[0mmodel\u001b[0m\u001b[0;34m.\u001b[0m\u001b[0msave_weights\u001b[0m\u001b[0;34m(\u001b[0m\u001b[0;34m'/output/RNN_checkpoint_{}_epoch.hdf5'\u001b[0m\u001b[0;34m.\u001b[0m\u001b[0mformat\u001b[0m\u001b[0;34m(\u001b[0m\u001b[0mnb_epoch_num\u001b[0m\u001b[0;34m)\u001b[0m\u001b[0;34m)\u001b[0m\u001b[0;34m\u001b[0m\u001b[0m\n",
      "\u001b[0;32m/usr/local/lib/python3.5/dist-packages/keras/models.py\u001b[0m in \u001b[0;36mfit\u001b[0;34m(self, x, y, batch_size, epochs, verbose, callbacks, validation_split, validation_data, shuffle, class_weight, sample_weight, initial_epoch, steps_per_epoch, validation_steps, **kwargs)\u001b[0m\n\u001b[1;32m    958\u001b[0m                               \u001b[0minitial_epoch\u001b[0m\u001b[0;34m=\u001b[0m\u001b[0minitial_epoch\u001b[0m\u001b[0;34m,\u001b[0m\u001b[0;34m\u001b[0m\u001b[0m\n\u001b[1;32m    959\u001b[0m                               \u001b[0msteps_per_epoch\u001b[0m\u001b[0;34m=\u001b[0m\u001b[0msteps_per_epoch\u001b[0m\u001b[0;34m,\u001b[0m\u001b[0;34m\u001b[0m\u001b[0m\n\u001b[0;32m--> 960\u001b[0;31m                               validation_steps=validation_steps)\n\u001b[0m\u001b[1;32m    961\u001b[0m \u001b[0;34m\u001b[0m\u001b[0m\n\u001b[1;32m    962\u001b[0m     def evaluate(self, x, y, batch_size=32, verbose=1,\n",
      "\u001b[0;32m/usr/local/lib/python3.5/dist-packages/keras/engine/training.py\u001b[0m in \u001b[0;36mfit\u001b[0;34m(self, x, y, batch_size, epochs, verbose, callbacks, validation_split, validation_data, shuffle, class_weight, sample_weight, initial_epoch, steps_per_epoch, validation_steps, **kwargs)\u001b[0m\n\u001b[1;32m   1655\u001b[0m                               \u001b[0minitial_epoch\u001b[0m\u001b[0;34m=\u001b[0m\u001b[0minitial_epoch\u001b[0m\u001b[0;34m,\u001b[0m\u001b[0;34m\u001b[0m\u001b[0m\n\u001b[1;32m   1656\u001b[0m                               \u001b[0msteps_per_epoch\u001b[0m\u001b[0;34m=\u001b[0m\u001b[0msteps_per_epoch\u001b[0m\u001b[0;34m,\u001b[0m\u001b[0;34m\u001b[0m\u001b[0m\n\u001b[0;32m-> 1657\u001b[0;31m                               validation_steps=validation_steps)\n\u001b[0m\u001b[1;32m   1658\u001b[0m \u001b[0;34m\u001b[0m\u001b[0m\n\u001b[1;32m   1659\u001b[0m     def evaluate(self, x=None, y=None,\n",
      "\u001b[0;32m/usr/local/lib/python3.5/dist-packages/keras/engine/training.py\u001b[0m in \u001b[0;36m_fit_loop\u001b[0;34m(self, f, ins, out_labels, batch_size, epochs, verbose, callbacks, val_f, val_ins, shuffle, callback_metrics, initial_epoch, steps_per_epoch, validation_steps)\u001b[0m\n\u001b[1;32m   1211\u001b[0m                     \u001b[0mbatch_logs\u001b[0m\u001b[0;34m[\u001b[0m\u001b[0;34m'size'\u001b[0m\u001b[0;34m]\u001b[0m \u001b[0;34m=\u001b[0m \u001b[0mlen\u001b[0m\u001b[0;34m(\u001b[0m\u001b[0mbatch_ids\u001b[0m\u001b[0;34m)\u001b[0m\u001b[0;34m\u001b[0m\u001b[0m\n\u001b[1;32m   1212\u001b[0m                     \u001b[0mcallbacks\u001b[0m\u001b[0;34m.\u001b[0m\u001b[0mon_batch_begin\u001b[0m\u001b[0;34m(\u001b[0m\u001b[0mbatch_index\u001b[0m\u001b[0;34m,\u001b[0m \u001b[0mbatch_logs\u001b[0m\u001b[0;34m)\u001b[0m\u001b[0;34m\u001b[0m\u001b[0m\n\u001b[0;32m-> 1213\u001b[0;31m                     \u001b[0mouts\u001b[0m \u001b[0;34m=\u001b[0m \u001b[0mf\u001b[0m\u001b[0;34m(\u001b[0m\u001b[0mins_batch\u001b[0m\u001b[0;34m)\u001b[0m\u001b[0;34m\u001b[0m\u001b[0m\n\u001b[0m\u001b[1;32m   1214\u001b[0m                     \u001b[0;32mif\u001b[0m \u001b[0;32mnot\u001b[0m \u001b[0misinstance\u001b[0m\u001b[0;34m(\u001b[0m\u001b[0mouts\u001b[0m\u001b[0;34m,\u001b[0m \u001b[0mlist\u001b[0m\u001b[0;34m)\u001b[0m\u001b[0;34m:\u001b[0m\u001b[0;34m\u001b[0m\u001b[0m\n\u001b[1;32m   1215\u001b[0m                         \u001b[0mouts\u001b[0m \u001b[0;34m=\u001b[0m \u001b[0;34m[\u001b[0m\u001b[0mouts\u001b[0m\u001b[0;34m]\u001b[0m\u001b[0;34m\u001b[0m\u001b[0m\n",
      "\u001b[0;32m/usr/local/lib/python3.5/dist-packages/keras/backend/theano_backend.py\u001b[0m in \u001b[0;36m__call__\u001b[0;34m(self, inputs)\u001b[0m\n\u001b[1;32m   1222\u001b[0m     \u001b[0;32mdef\u001b[0m \u001b[0m__call__\u001b[0m\u001b[0;34m(\u001b[0m\u001b[0mself\u001b[0m\u001b[0;34m,\u001b[0m \u001b[0minputs\u001b[0m\u001b[0;34m)\u001b[0m\u001b[0;34m:\u001b[0m\u001b[0;34m\u001b[0m\u001b[0m\n\u001b[1;32m   1223\u001b[0m         \u001b[0;32massert\u001b[0m \u001b[0misinstance\u001b[0m\u001b[0;34m(\u001b[0m\u001b[0minputs\u001b[0m\u001b[0;34m,\u001b[0m \u001b[0;34m(\u001b[0m\u001b[0mlist\u001b[0m\u001b[0;34m,\u001b[0m \u001b[0mtuple\u001b[0m\u001b[0;34m)\u001b[0m\u001b[0;34m)\u001b[0m\u001b[0;34m\u001b[0m\u001b[0m\n\u001b[0;32m-> 1224\u001b[0;31m         \u001b[0;32mreturn\u001b[0m \u001b[0mself\u001b[0m\u001b[0;34m.\u001b[0m\u001b[0mfunction\u001b[0m\u001b[0;34m(\u001b[0m\u001b[0;34m*\u001b[0m\u001b[0minputs\u001b[0m\u001b[0;34m)\u001b[0m\u001b[0;34m\u001b[0m\u001b[0m\n\u001b[0m\u001b[1;32m   1225\u001b[0m \u001b[0;34m\u001b[0m\u001b[0m\n\u001b[1;32m   1226\u001b[0m \u001b[0;34m\u001b[0m\u001b[0m\n",
      "\u001b[0;32m/usr/local/lib/python3.5/dist-packages/theano/compile/function_module.py\u001b[0m in \u001b[0;36m__call__\u001b[0;34m(self, *args, **kwargs)\u001b[0m\n\u001b[1;32m    882\u001b[0m         \u001b[0;32mtry\u001b[0m\u001b[0;34m:\u001b[0m\u001b[0;34m\u001b[0m\u001b[0m\n\u001b[1;32m    883\u001b[0m             \u001b[0moutputs\u001b[0m \u001b[0;34m=\u001b[0m\u001b[0;31m\\\u001b[0m\u001b[0;34m\u001b[0m\u001b[0m\n\u001b[0;32m--> 884\u001b[0;31m                 \u001b[0mself\u001b[0m\u001b[0;34m.\u001b[0m\u001b[0mfn\u001b[0m\u001b[0;34m(\u001b[0m\u001b[0;34m)\u001b[0m \u001b[0;32mif\u001b[0m \u001b[0moutput_subset\u001b[0m \u001b[0;32mis\u001b[0m \u001b[0;32mNone\u001b[0m \u001b[0;32melse\u001b[0m\u001b[0;31m\\\u001b[0m\u001b[0;34m\u001b[0m\u001b[0m\n\u001b[0m\u001b[1;32m    885\u001b[0m                 \u001b[0mself\u001b[0m\u001b[0;34m.\u001b[0m\u001b[0mfn\u001b[0m\u001b[0;34m(\u001b[0m\u001b[0moutput_subset\u001b[0m\u001b[0;34m=\u001b[0m\u001b[0moutput_subset\u001b[0m\u001b[0;34m)\u001b[0m\u001b[0;34m\u001b[0m\u001b[0m\n\u001b[1;32m    886\u001b[0m         \u001b[0;32mexcept\u001b[0m \u001b[0mException\u001b[0m\u001b[0;34m:\u001b[0m\u001b[0;34m\u001b[0m\u001b[0m\n",
      "\u001b[0;32m/usr/local/lib/python3.5/dist-packages/theano/scan_module/scan_op.py\u001b[0m in \u001b[0;36mrval\u001b[0;34m(p, i, o, n, allow_gc)\u001b[0m\n\u001b[1;32m    987\u001b[0m         def rval(p=p, i=node_input_storage, o=node_output_storage, n=node,\n\u001b[1;32m    988\u001b[0m                  allow_gc=allow_gc):\n\u001b[0;32m--> 989\u001b[0;31m             \u001b[0mr\u001b[0m \u001b[0;34m=\u001b[0m \u001b[0mp\u001b[0m\u001b[0;34m(\u001b[0m\u001b[0mn\u001b[0m\u001b[0;34m,\u001b[0m \u001b[0;34m[\u001b[0m\u001b[0mx\u001b[0m\u001b[0;34m[\u001b[0m\u001b[0;36m0\u001b[0m\u001b[0;34m]\u001b[0m \u001b[0;32mfor\u001b[0m \u001b[0mx\u001b[0m \u001b[0;32min\u001b[0m \u001b[0mi\u001b[0m\u001b[0;34m]\u001b[0m\u001b[0;34m,\u001b[0m \u001b[0mo\u001b[0m\u001b[0;34m)\u001b[0m\u001b[0;34m\u001b[0m\u001b[0m\n\u001b[0m\u001b[1;32m    990\u001b[0m             \u001b[0;32mfor\u001b[0m \u001b[0mo\u001b[0m \u001b[0;32min\u001b[0m \u001b[0mnode\u001b[0m\u001b[0;34m.\u001b[0m\u001b[0moutputs\u001b[0m\u001b[0;34m:\u001b[0m\u001b[0;34m\u001b[0m\u001b[0m\n\u001b[1;32m    991\u001b[0m                 \u001b[0mcompute_map\u001b[0m\u001b[0;34m[\u001b[0m\u001b[0mo\u001b[0m\u001b[0;34m]\u001b[0m\u001b[0;34m[\u001b[0m\u001b[0;36m0\u001b[0m\u001b[0;34m]\u001b[0m \u001b[0;34m=\u001b[0m \u001b[0;32mTrue\u001b[0m\u001b[0;34m\u001b[0m\u001b[0m\n",
      "\u001b[0;32m/usr/local/lib/python3.5/dist-packages/theano/scan_module/scan_op.py\u001b[0m in \u001b[0;36mp\u001b[0;34m(node, args, outs)\u001b[0m\n\u001b[1;32m    976\u001b[0m                                                 \u001b[0margs\u001b[0m\u001b[0;34m,\u001b[0m\u001b[0;34m\u001b[0m\u001b[0m\n\u001b[1;32m    977\u001b[0m                                                 \u001b[0mouts\u001b[0m\u001b[0;34m,\u001b[0m\u001b[0;34m\u001b[0m\u001b[0m\n\u001b[0;32m--> 978\u001b[0;31m                                                 self, node)\n\u001b[0m\u001b[1;32m    979\u001b[0m         \u001b[0;32mexcept\u001b[0m \u001b[0;34m(\u001b[0m\u001b[0mImportError\u001b[0m\u001b[0;34m,\u001b[0m \u001b[0mtheano\u001b[0m\u001b[0;34m.\u001b[0m\u001b[0mgof\u001b[0m\u001b[0;34m.\u001b[0m\u001b[0mcmodule\u001b[0m\u001b[0;34m.\u001b[0m\u001b[0mMissingGXX\u001b[0m\u001b[0;34m)\u001b[0m\u001b[0;34m:\u001b[0m\u001b[0;34m\u001b[0m\u001b[0m\n\u001b[1;32m    980\u001b[0m             \u001b[0mp\u001b[0m \u001b[0;34m=\u001b[0m \u001b[0mself\u001b[0m\u001b[0;34m.\u001b[0m\u001b[0mexecute\u001b[0m\u001b[0;34m\u001b[0m\u001b[0m\n",
      "\u001b[0;31mKeyboardInterrupt\u001b[0m: "
     ]
    }
   ],
   "source": [
    "epochs = 100\n",
    "nb_epoch_num = 0\n",
    "for i in range(epochs):\n",
    "    print('epoch %d'%i)\n",
    "\n",
    "    model.fit(X, y, batch_size=128, epochs=1)\n",
    "    nb_epoch_num += 1\n",
    "    model.save_weights('/output/RNN_checkpoint_{}_epoch.hdf5'.format(nb_epoch_num))\n",
    "\n",
    "    # preview\n",
    "    for temp in [0.2, 0.5, 1., 1.2]:\n",
    "        print('temperature: %0.2f'%temp)\n",
    "        print('%s'%generate(temperature=temp))"
   ]
  },
  {
   "cell_type": "code",
   "execution_count": 21,
   "metadata": {},
   "outputs": [
    {
     "name": "stdout",
     "output_type": "stream",
     "text": [
      "aten. Peperoni hinzugeben und dann die Zwiebeln und den Knoblauch schälen und in feine Streifen schneiden.  Die Mandeln mit der Sahne abschmecken.  Die Backzeit auf den Boden streuen. Die Teigstücke und die Kartoffeln und den Schnittlauch unterheben.   Die Paprika waschen und trocken tupfen.  Die Schalotten waschen, trocken tupfen und in Streifen schneiden. Die Mandeln und die Sahne unterrühren. Die Zwiebel in Streifen schneiden. Die Schalotten und den Mozzarella in den Topf geben und mit dem Backpulver vermischen. Das Ei geraspelt werden. Die Schokolade in Stücke schneiden.   Die Schalotten in kleine Streifen schneiden. Die Schalotte und die Paprika putzen, waschen, putzen und in Streifen schneiden. Die Kartoffeln schälen und in Streifen schneiden, das Fleisch auf den Boden geben und glatt streichen.  Die Sahne und die Mandeln dazugeben. Das Hackfleisch mit dem Saft der restlichen Walnüsse und den Schneebese vermischen. Die Schale beiseite stellen.   Die Masse in eine gefettete oder mit Backpapier auslegen und die Flasche schälen und in Streifen schneiden. Die Frühlingszwiebel waschen, putzen und in Streifen schneiden. Den Boden mit Backpapier ausgelegtes Backblech setzen. Die Kartoffelstücke und den Kräutern darin anschwitzen. Die Möhren schälen und in Streifen schneiden. Das Mehl mit dem Saft abschmecken. Die Zwiebel schälen und in feine Streifen schneiden. Die Schicht abgießen und abtropfen lassen. Die Sahne unter gelegentlichem Wasser auflösen. Die Schale abschütten. Die Basilikumblätter hineingeben und glatt streichen. Den Geschmack auf einen Teller geben und mit Salz und Pfeffer würzen und in einer Pfanne erhitzen und das Suppengrün würfeln, dann die Zwiebel in kleine Stücke schneiden. Die Schalotten in kleine Würfel schneiden. Die Gewürze und den Kräutern schälen und in kleine Stücke schneiden. Die Zwiebel und den Knoblauch schälen und in kleine Würfel schneiden. Die Schalotten und den Knoblauch schälen und in kleine Stücke schneiden. Die Schalotten mit der \n"
     ]
    }
   ],
   "source": [
    "print('%s' % generate(temperature=0.4,\n",
    "                      seed='Ich salze meine Nudeln mit Salz', # I salt my pasta with salt\n",
    "                      num_chars=2000))"
   ]
  },
  {
   "cell_type": "code",
   "execution_count": 22,
   "metadata": {},
   "outputs": [
    {
     "name": "stdout",
     "output_type": "stream",
     "text": [
      "opf gegeben und erwärmen. Mit der Rosinen Kartoffeln schälen, fein hacken, die Brühe fein würfeln. Die Schalotten putzen, waschen und trockentupfen. Saft mit Salz und Pfeffer bestreichen und gut vermischen. Bei 200°C treilt den Mixer geben und abschmecken. Alles in etwas Öl erhitzen und das Fleisch sehr gutnliemurgrobenwürfel und die Zwiebeln würfeln und schälen. -Rikoten (auch Platten entsteht. auf Maraleflocker und Kirschen zusammen des Öl rollen und klein schneiden. Anschließend mit geschlossenen Mandarinen bestreuen. Die Kartoffeln kurz erneut verrühren, tunssieben.  Rucola in Scheiben schneiden und in die Hälfte des Karütichen darin unter Rühren braten.  Die Steherzwiebelwürfel und Schnittlauch ziemen, trocken schütteln, wenn er schnell ge anderem Cereme) auf den Topf verteilen. Kürbisfleisch waschen und in Kartoffeln bei Stück geben und glasig marinieren bzw. restliche Gurke auf dem Teller geben und verarbeiten. Heiß werden lassen. Kurz vor Kartoffel werden für eine Schüssel Wässermasse drücken.  Aus Holzspieß und Olivenöl zugeben. Die Maßgikettengrünersalat eine dicke Marinade kochen, 3 Minuten anbraten, ostens mit der Mandelmischung servieren. (Falls die Blätter auf gleich breiten Grill abschütten. Zwiebeln und Knoblauch und klein geschnittenen Käsescheiben daraufgeben. Den Teig in in gut kleinen Rührbrühe erkalten und dann Sellerie und Schinken schälen, trocken schütteln und mit der Milch zum Gemüse auf den Dill zunoch leicht erhebt ist. Backofen schieben und die Spinatmasse innen und auf ein Lasagneplatten zusammenmenten, dass sie an kleben, zorbanache Einschneiden daraus geben.   ). Den Ofen auf 180°C vorheizen. setzen und einfach einrieseln lassen. Die Maronen abgießen und in in in weitere Streifen schneiden. Mokkad bei geringer Hitze etwa 2 Stunden köcheln lassen. Die Brühe mit Wasser mit über die ebenfalls abgießen, abtropfen lassen, trocken schütteln und  evtl. nach und nach das 3-Masse getrockneten Amarettinions dedünn mit Teig verkneten.   Die Knobl\n"
     ]
    }
   ],
   "source": [
    "print('%s' % generate(temperature=1.0,\n",
    "                      seed='Pfanne reinigen, kein Wasser dazu giessen', # Clean the pan, do not add water\n",
    "                      num_chars=2000))"
   ]
  },
  {
   "cell_type": "code",
   "execution_count": 23,
   "metadata": {},
   "outputs": [
    {
     "name": "stdout",
     "output_type": "stream",
     "text": [
      "usstecher entfernen.   Die Mandeln in eine Schüssel geben und mit Salz und Pfeffer würzen. Die Schalotten und den Knoblauch schälen und in Streifen schneiden. Die Schalotten und den Schnittlauch in Streifen schneiden. Die Zwiebeln und die Knoblauchzehe in Scheiben schneiden. Die Kartoffeln schälen und in Streifen schneiden. Die Schalotten in kleine Stücke schneiden. Die Schalotten und den Knoblauch schälen und in Streifen schneiden. Die Zwiebeln und die Knoblauchzehe in Scheiben schneiden. Die Zwiebel in kleine Stücke schneiden. Die Schalotten in Scheiben schneiden. Die Zwiebel schälen und in Streifen schneiden. Die Schale von den Stielen auf dem Backblech verteilen.  Die Eier mit dem Mixer abschmecken.  Die Schale abschütten. Die Kartoffeln schälen und in Streifen schneiden. Die Schalotten in Streifen schneiden. Die Schalotten in kleine Würfel schneiden. Die Zwiebeln und den Knoblauch schälen und in Stücke schneiden. Die Schalotten in kleine Stücke schneiden. Die Schalotten abziehen und in Streifen schneiden. Die Mandeln in eine Schüssel geben und mit dem Schneebesen des Backzeit den Teig in die Suppe geben. Die Sahne steif schlagen und unterheben.  Die Masse in die Suppe geben. Die Sahne steif schlagen. Die Schale von den Stielen und den Schinken und den Schnittlauch in Scheiben schneiden. Die Kartoffeln schälen und in Streifen schneiden. Die Zwiebel in kleine Stücke schneiden. Die Schalotten und den Knoblauch schälen und in Streifen schneiden. Die Kartoffeln schälen und in Streifen schneiden. Die Schalotten und den Knoblauch schälen und in Streifen schneiden. Die Schalotten in kleine Stücke schneiden. Das Mehl mit dem Backpulver vermischen. Die Schalotten und den Knoblauch schälen und in Streifen schneiden. Die Schalotten in Streifen schneiden. Die Schalotten in Streifen schneiden. Die Schalotten und den Knoblauch schälen und in Streifen schneiden. Die Schalotten und die Kartoffeln und die Schale von den Stielen verteilen. Die Schalotten und den Schnittlauch darin anschwitzen. Die Schalotten in kleine Stücke schneiden. Die Zwiebeln und den Knoblauch schälen und in Streifen schneiden. Die Schalotten in kleine Würfel schneiden. Die Kartoffeln schälen und in Streifen schneiden. Das Fleisch in der Pfanne anbraten. Die Schalotten abziehen und in Stücke schneiden. Die Schalotten und den Knoblauch und den Knoblauch schälen und in Streifen schneiden. Die Zwiebel schälen und in feine Streifen schneiden. Die Sahne und die Sahne unterrühren. Die Suppe auf den Boden streuen.  Die Schale von den Stielen anrichten. Die Paprikaschoten waschen, trocken tupfen und in Scheiben schneiden. Die Schalotten in Streifen schneiden. Die Schalotten in kleine Stücke schneiden. Die Kartoffeln schälen und in Streifen schneiden. Die Kartoffeln schälen und in Streifen schneiden. Die Zwiebel schälen und in Streifen schneiden. Die Knoblauchzehe schälen und in Streifen schneiden. Die Schalotten in kleine Streifen schneiden. Die Zwiebel schälen und in Streifen schneiden. Die Zwiebeln und den Knoblauch schälen und in Streifen schneiden. Die Kartoffeln schälen und in Streifen schneiden. Die Kartoffeln schälen und in Streifen schneiden. Die Schalotten in kleine Streifen schneiden. Die Butter in einem Topf erhitzen und die Schalotten in Scheiben schneiden. Die Kartoffeln schälen und in Streifen schneiden. Die Schalotten und den Knoblauch schälen und in Streifen schneiden. Die Zwiebel schälen und in Streifen schneiden. Die Zwiebel schälen und in Streifen schneiden. Die Zwiebel und die Knoblauchzehe und den Schnittlauch darin anbraten. Die Schalotten in kleine Stücke schneiden. Die Schale bei mittlerer Hitze ca. 10 Minuten backen.  Die Suppe mit dem Schneebesen das Fleisch in der Pfanne auf den Boden streichen. Die Schale von den Stielen verteilen. Die Kartoffeln schälen und in Streifen schneiden. Die Schalotten und den Knoblauch abziehen und in feine Streifen schneiden. Die Zwiebeln und die Knoblauchzehe schälen und in Streifen schneiden. Die Zwiebeln und den Knoblauch schälen und in Streifen schneiden.   Die Schalotten und den Schinken darin braten. Die Schale von den Stielen und die Schale in eine Schüssel geben und mit dem Schneebesen aufkochen und die Schale mit dem Schneebesen das Mehl mit dem Backpulver vermischen. Die Schalotten in Streifen schneiden. Das Fleisch in den Topf geben und alles gut vermischen. Die Sahne unter die Masse rühren. Die Zwiebeln und den Knoblauch schälen und in dünne Scheiben schneiden. Die Schale von den Stielen beiseite stellen.   Die Sahne und die Sahne mit dem Zucker und dem Sahne abschmecken.  Die Sahne steif schlagen und unter die Creme heben. Die Schalotten und den Schnittlauch in Streifen schneiden. Die Zwiebel schälen und in Streifen schneiden. Die Schalotten und den Knoblauch schälen und in Streifen schneiden. Die Zwiebel schälen und in Streifen schneiden. Die Schalotten und den Knoblauch schälen und in kleine Würfel schneiden.  Die Mandeln in eine Schüssel geben und mit dem Kokosraspeln bestreuen.  Die \n"
     ]
    }
   ],
   "source": [
    "print('%s' % generate(temperature=0.2,\n",
    "                      # Add everything and bring to a boil briefly in a saucepan over medium heat.\n",
    "                      seed='Alles dazugeben und in einen Kochtopf auf mittlerer Hitze kurz aufkochen lassen.',\n",
    "                      num_chars=5000))"
   ]
  },
  {
   "cell_type": "code",
   "execution_count": 24,
   "metadata": {},
   "outputs": [
    {
     "name": "stdout",
     "output_type": "stream",
     "text": [
      "e einrühren.   Das Fleisch wieder in das klein geschnitten und drei gesauzen weigstück halten und in die Suppe geben. Gelegentlich ausstechen und gleichmäßig aus der Gabel klein schneiden und mit  Deckel schmelzen und abspülen. überschüssige setze wird dann mit Stiel belegen, die Frühlingszwiebeln in beeutketten Teig lassen und mit Salz und Pfeffer würzen. Fleisch darin andünsten und selbe vierteln. sie schälen und fein hacken und in den Bräter geben, mit Kakao bestreuen.  Die Säure das Ei geben und gut miteinander vermischen. dann in den Kühlschrank legen, bei 2150°C ca. 15 Minuten backen.  Tipp: Die Schlagsahne putzen. Die Schokolade mit den Gewürzen bestreuen. Das Basilikum gründlich miteinander verrühren.   Den Feldsalat mit Grundlaufbeeren (man das Rezept fur mit Nussbutter in den Topf geben und es lieber ein mit Backpapier ausgelegten Panderbrot servieren. Die Schalotte in eine Schüssel geben und mit dem Backpulver darüberstreuen, bei 175°C ca. 5 Min. backen.  Das Hackfleisch mit der Marinade erhitzen und die Schüssel in einen Topf geben und kurz auf der Datteln belegen.   Die Aprikosen darin backen. Das Schtrutzer geben und bei schwacher Hitze garen. Mit frischen Kirschen (Die Sauce zum Bessen auflegen.   Die Tomaten halbieren, dann abkühlen lassen. Gelatine darin anbraten. Die Kerne schälen und in feine Streifen schneiden, abspülen und fein hacken, abschrecken und abtropfen lassen.   Für den Reis zum Schluss speisches Ei mit dem Creme frutzi2 weitere Dressing auf die Eierlade streuen.  Dazu passt ein Brust servieren.   Dann die Schokolade im heißen Ofen garen. Mit Salz und Pfeffer würzen.  Erdbeeren in Scheiben schneiden und auf den Belag geben und zu den Aprikosenmuster ein liegen, blimmes ein mit Backpapier belegtes Backblech legen und mit der Blüten in einem feuneren Topf die Kartoffeln eher bissfest garen. Den Kaffee auf dem Backblech verteilen und die  wird ölter klart aufgegangen, mit fein gehackten Kräutern und dem Öl erhitzen. Die Kartoffeln darin scharf anbraten. Die Knoblauchzehe schälen und waschen, klein schneiden und in 5 cm lange Anterholft und die Coftkohl in den Schüssel geben.   Das Fleisch zugeben und alles miteinander verrühren (aber nach hinzugeben und gut umrühren. Mit Salz und Pfeffer würzen, Natran und Auberginen geben. Das Kuvertüre dann aufbewahren.  Hackfleisch im Ofen backen. Evtl. mit Petersilie bestreuen und leicht gründlich waschen, trocken schütteln, in feine Streifen schneiden. Die Knoblauchzehe schälen, mit den anderen Zutaten eine Schicht klebrig wird, aber auch nicht so geschüttiges Mehl darin anbraten.   Den Reis mit etwas Mehl bestreuen. Die Schnitzel in Streifen schneiden. Anschließend die Milch darauf verteilen.  Den Teig mit Rand des Teiges aufweichen und dann auf den Kaffee darin erkalten, bis alles gut schmeckt. Die Sahne, 1 EL Milch, 20 g Butter und Zucker aufkochen, bis das Gemüse gerinntlich abgießen. Das Marmelade mit einem Deckel bei 150°C ca. 40 Minuten backen. Mit dem Kirschsaft ablöschen. Die Gelatine nach Erdbeeren. Nach dem Backen den Teig mit dem Feigen und ein paar Trockchenbratempigkei (aber natürlich auch etwas ziehen lassen.   Kartoffelpüree darin schmelzen. Das Kartoffelstampfbrotstücker sehr flüsmig wird. Die Margarine mit dem gehackten Koriander und das Salz verrühren. Mit Salz und Pfeffer würzen. Die Pilze würfeln, die Zwiebel fein hacken, grob hacken. pftfferigbeeren und die gewürfelte Möhren und die gehackten Partika Obst und Frühlingszwiebeln und Knoblauch schälen, das Brot mit Sahne steif schlagen und unter die Paprikaschote bestreuen.  Die Sahne steif schlagen und unterheben und auskühlen lassen, bis die Masse garen lassen.   Die Vanillezucker mit Affel, abgeriebenem Zucker abschmecken.   Die Die Hähnchenteile auf einer großen Schüssel mit Sahnesteif steif schlagen und unter die Hälfte des Bratens eine Gugelhupfform, in den legen Kaffeesaft mit Zucker und Butter einrühren, bis der Reis fertig sind. roten Zutaten im Couscola dazugeben und zu einem festen Brett mischen. Erkalten lassen. Die Ananas unterheben und in Streifen schneiden.  In der Zwischenzeit ein feuchtes Messer und das Tatarblatt verteilen. Mehl und Backpulver darüber streuen.  Die Zucchini schälen, mit Zitronensaft beträufeln und in Scheiben schneiden und mit Salz und Pfeffer würzen.  Das Stellen mit dem Zucker abschmecken. Die Mischung unterheben und auf das Backblech legen und einfetten und in einen Topf geben und etwa 25 Minuten kühl stellen.  Den Boden im Kühlschrank gut schütteln. Den Teig in eine Schüssel geben, die Sahne unterrühren. Den Teig einige Stunden in den Teig rühren.  Das Ganze auf den Grill streuen. Die Eier hineingeben und gut aufkochen lassen und den Korianderb, zugeben und gut verrühren. In der Zwischenzeit die  zerbröselte Brühe, überschüssiges Salz verwendet.   Die Kartoffeln und den Reis herstellen.  Das Olivenöl in eine Schüssel rühren. Das Ganze leicht braten, saur Fleisch und Würfel schälen und trocken schütteln. Den Schneebese nach Packungsanwe\n"
     ]
    }
   ],
   "source": [
    "print('%s' % generate(temperature=0.8,\n",
    "                      # Add everything and bring to a boil briefly in a saucepan over medium heat.\n",
    "                      seed='Alles dazugeben und in einen Kochtopf auf mittlerer Hitze kurz aufkochen lassen.',\n",
    "                      num_chars=5000))"
   ]
  }
 ],
 "metadata": {
  "kernelspec": {
   "display_name": "Python 3",
   "language": "python",
   "name": "python3"
  },
  "language_info": {
   "codemirror_mode": {
    "name": "ipython",
    "version": 3
   },
   "file_extension": ".py",
   "mimetype": "text/x-python",
   "name": "python",
   "nbconvert_exporter": "python",
   "pygments_lexer": "ipython3",
   "version": "3.9.5"
  }
 },
 "nbformat": 4,
 "nbformat_minor": 4
}
